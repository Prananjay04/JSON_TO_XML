{
 "cells": [
  {
   "cell_type": "code",
   "execution_count": 15,
   "id": "9168591d-8188-4d4a-b79a-67e2d21ce826",
   "metadata": {},
   "outputs": [
    {
     "name": "stdin",
     "output_type": "stream",
     "text": [
      "Enter Source Path Of JSON File map.json\n",
      "Enter Destination Path Of Xml File 'If what to save at CWD press enter' \n",
      "Enter Name Of XML file 'without .xml extention' map\n"
     ]
    },
    {
     "name": "stdout",
     "output_type": "stream",
     "text": [
      "Convertion Done. Depth Reached  0\n"
     ]
    }
   ],
   "source": [
    "import json as js\n",
    "import os\n",
    "\n",
    "depth =0\n",
    "def json_to_xml(file): \n",
    "    \n",
    "    if type(file)!=dict:\n",
    "        return file\n",
    "    \n",
    "    else:\n",
    "        \n",
    "        xml=\"\"\n",
    "        \n",
    "        \n",
    "        for i in file.keys():\n",
    "            \n",
    "            tag=i+\">\"\n",
    "            \n",
    "            stag=\"\\n<\"+tag\n",
    "            \n",
    "            etag=\"</\"+tag+\"\\n\"\n",
    "            \n",
    "            data=file[i]\n",
    "            \n",
    "            if(type(data)==list):\n",
    "                \n",
    "                for j in data:\n",
    "                    \n",
    "                    if(type(j)!=dict):\n",
    "\n",
    "                        xml+=stag+str(j)+etag\n",
    "                    else:\n",
    "    \n",
    "                        xml+=stag+str(json_to_xml(j))+etag\n",
    "            else:\n",
    "\n",
    "                xml+=stag+str(json_to_xml(file[i]))+etag\n",
    "                \n",
    "        else:\n",
    "            return xml\n",
    "        \n",
    "json_path=input(\"Enter Source Path Of JSON File\").strip()\n",
    "xml_path=input(\"Enter Destination Path Of Xml File 'If what to save at CWD press enter'\").strip()\n",
    "if(xml_path==\"\"):\n",
    "    xml_path=os.getcwd()\n",
    "    \n",
    "\n",
    "json_file=js.load(open(json_path,\"r\"))\n",
    "\n",
    "xml_str='<?xml version=\"1.0\" encoding=\"UTF-8\" ?>'+json_to_xml(json_file)\n",
    "\n",
    "xml_file_name=input(\"Enter Name Of XML file 'without .xml extention'\")+\".xml\"\n",
    "xml_file=open(xml_path+\"/\"+xml_file_name,\"w\")\n",
    "xml_file.write(xml_str)\n",
    "xml_file.close()\n",
    "\n",
    "print(\"Convertion Done\")"
   ]
  },
  {
   "cell_type": "code",
   "execution_count": null,
   "id": "aaf34e63-510d-4110-9763-d0087ee3a1a5",
   "metadata": {},
   "outputs": [],
   "source": []
  },
  {
   "cell_type": "code",
   "execution_count": null,
   "id": "f9925107-c47e-4436-b5ae-e9988f977be1",
   "metadata": {},
   "outputs": [],
   "source": []
  },
  {
   "cell_type": "code",
   "execution_count": 16,
   "id": "b89eac6b-d28e-4af3-b38d-a462e98b3caa",
   "metadata": {},
   "outputs": [],
   "source": [
    "js_file=open(\"example_2.json\",\"r\")\n",
    "js_file=js.load(js_file)"
   ]
  },
  {
   "cell_type": "code",
   "execution_count": 17,
   "id": "2b923a99-b9d4-45bb-a20a-ccd63396ddf7",
   "metadata": {},
   "outputs": [
    {
     "data": {
      "text/plain": [
       "{'quiz': {'sport': {'q1': {'question': 'Which one is correct team name in NBA?',\n",
       "    'options': ['New York Bulls',\n",
       "     'Los Angeles Kings',\n",
       "     'Golden State Warriros',\n",
       "     'Huston Rocket'],\n",
       "    'answer': 'Huston Rocket'}},\n",
       "  'maths': {'q1': {'question': '5 + 7 = ?',\n",
       "    'options': ['10', '11', '12', '13'],\n",
       "    'answer': '12'},\n",
       "   'q2': {'question': '12 - 8 = ?',\n",
       "    'options': ['1', '2', '3', '4'],\n",
       "    'answer': '4'}}}}"
      ]
     },
     "execution_count": 17,
     "metadata": {},
     "output_type": "execute_result"
    }
   ],
   "source": [
    "js_file"
   ]
  },
  {
   "cell_type": "code",
   "execution_count": null,
   "id": "4c34753a-410d-41cc-91fe-e79c848d6c0e",
   "metadata": {},
   "outputs": [],
   "source": []
  },
  {
   "cell_type": "code",
   "execution_count": 19,
   "id": "dfe1b63b-e82b-445a-8aab-51e7ab2b3a88",
   "metadata": {},
   "outputs": [],
   "source": [
    "e1=js.load(open(\"example_1.json\",\"r\"))"
   ]
  },
  {
   "cell_type": "code",
   "execution_count": 20,
   "id": "396b4bd5-abfd-4771-b51e-efda2d450fca",
   "metadata": {},
   "outputs": [
    {
     "data": {
      "text/plain": [
       "{'quiz': {'sport': {'q1': {'question': 'Which one is correct team name in NBA?',\n",
       "    'options': ['New York Bulls',\n",
       "     'Los Angeles Kings',\n",
       "     'Golden State Warriros',\n",
       "     'Huston Rocket'],\n",
       "    'answer': 'Huston Rocket'}},\n",
       "  'maths': {'q1': {'question': '5 + 7 = ?',\n",
       "    'options': ['10', '11', '12', '13'],\n",
       "    'answer': '12'},\n",
       "   'q2': {'question': '12 - 8 = ?',\n",
       "    'options': ['1', '2', '3', '4'],\n",
       "    'answer': '4'}}}}"
      ]
     },
     "execution_count": 20,
     "metadata": {},
     "output_type": "execute_result"
    }
   ],
   "source": [
    "js_file"
   ]
  },
  {
   "cell_type": "code",
   "execution_count": 21,
   "id": "58b3c7d2-e022-41e9-af67-2c6be4f28c82",
   "metadata": {},
   "outputs": [],
   "source": [
    "\n",
    "def json_to_xml(file): \n",
    "    if type(file)!=dict:\n",
    "        return file\n",
    "    else:\n",
    "        xml=\"\"\n",
    "        for i in file.keys():\n",
    "            tag=i+\">\"\n",
    "            stag=\"<\"+tag\n",
    "            etag=\"</\"+tag\n",
    "            data=file[i]\n",
    "            if(type(data)==list):\n",
    "                for j in data:\n",
    "                    if(type(j)!=dict):\n",
    "                        xml+=stag+str(j)+etag\n",
    "                    else:\n",
    "                        xml+=stag+str(json_to_xml(j))+etag\n",
    "            else:\n",
    "                xml+=stag+str(json_to_xml(file[i]))+etag\n",
    "        else:\n",
    "            return xml\n",
    "            \n",
    "        "
   ]
  },
  {
   "cell_type": "code",
   "execution_count": 22,
   "id": "af564276-8885-4c48-8adb-2b90e753782e",
   "metadata": {},
   "outputs": [
    {
     "data": {
      "text/plain": [
       "'<quiz><sport><q1><question>Which one is correct team name in NBA?</question><options>New York Bulls</options><options>Los Angeles Kings</options><options>Golden State Warriros</options><options>Huston Rocket</options><answer>Huston Rocket</answer></q1></sport><maths><q1><question>5 + 7 = ?</question><options>10</options><options>11</options><options>12</options><options>13</options><answer>12</answer></q1><q2><question>12 - 8 = ?</question><options>1</options><options>2</options><options>3</options><options>4</options><answer>4</answer></q2></maths></quiz>'"
      ]
     },
     "execution_count": 22,
     "metadata": {},
     "output_type": "execute_result"
    }
   ],
   "source": [
    "json_to_xml(js_file)"
   ]
  },
  {
   "cell_type": "code",
   "execution_count": null,
   "id": "fcc319eb-d587-4112-a618-239f2135b482",
   "metadata": {},
   "outputs": [],
   "source": []
  },
  {
   "cell_type": "code",
   "execution_count": 23,
   "id": "fbe9f804-bcc5-4a35-820b-c066f4822cc9",
   "metadata": {},
   "outputs": [],
   "source": [
    "colors=js.load(open(\"colors.json\",\"r\"))"
   ]
  },
  {
   "cell_type": "code",
   "execution_count": 24,
   "id": "a8b492db-f499-4315-b233-be5f2b2050ce",
   "metadata": {},
   "outputs": [],
   "source": [
    "xml=json_to_xml(colors)"
   ]
  },
  {
   "cell_type": "code",
   "execution_count": null,
   "id": "e7fc363f-b91a-41f1-9aec-758a0f81d3bd",
   "metadata": {},
   "outputs": [],
   "source": []
  },
  {
   "cell_type": "code",
   "execution_count": 25,
   "id": "74a69b4b-15f0-4b06-9456-053976d6e7bd",
   "metadata": {},
   "outputs": [],
   "source": [
    "m=js.load(open(\"map.json\",\"r\"))"
   ]
  },
  {
   "cell_type": "code",
   "execution_count": 26,
   "id": "9773df71-1e65-4b42-b880-8befab085e90",
   "metadata": {},
   "outputs": [],
   "source": [
    "xml=json_to_xml(m)"
   ]
  },
  {
   "cell_type": "code",
   "execution_count": 27,
   "id": "d541dca6-5d16-4564-b606-7d07e68b147d",
   "metadata": {},
   "outputs": [],
   "source": [
    "xml=open(\"books.xml\",\"r\")\n",
    "stack=[]\n",
    "xml=xml.read().replace('<?xml version=\"1.0\"?>',\"\")\n",
    "xml=xml.replace(\"\\n\",\"\")\n",
    "xml=xml.replace(\"\\t\",\"\")\n",
    "xml=xml.replace(\" \",\"\")"
   ]
  },
  {
   "cell_type": "code",
   "execution_count": 28,
   "id": "eb367824-eeb1-442d-bcf4-be696f268eb7",
   "metadata": {
    "scrolled": true,
    "tags": []
   },
   "outputs": [
    {
     "ename": "AttributeError",
     "evalue": "'list' object has no attribute 'appedn'",
     "output_type": "error",
     "traceback": [
      "\u001b[1;31m---------------------------------------------------------------------------\u001b[0m",
      "\u001b[1;31mAttributeError\u001b[0m                            Traceback (most recent call last)",
      "\u001b[1;32m<ipython-input-28-8f3ea5492fc5>\u001b[0m in \u001b[0;36m<module>\u001b[1;34m\u001b[0m\n\u001b[0;32m     19\u001b[0m                 \u001b[0mjson\u001b[0m\u001b[1;33m+=\u001b[0m\u001b[1;34m\"\"\u001b[0m\u001b[1;33m+\u001b[0m\u001b[0mtag\u001b[0m\u001b[1;33m+\u001b[0m\u001b[1;34m\":\"\u001b[0m\u001b[1;33m\u001b[0m\u001b[1;33m\u001b[0m\u001b[0m\n\u001b[0;32m     20\u001b[0m         \u001b[1;32melse\u001b[0m\u001b[1;33m:\u001b[0m\u001b[1;33m\u001b[0m\u001b[1;33m\u001b[0m\u001b[0m\n\u001b[1;32m---> 21\u001b[1;33m             \u001b[0mstack\u001b[0m\u001b[1;33m.\u001b[0m\u001b[0mappedn\u001b[0m\u001b[1;33m(\u001b[0m\u001b[0mtag\u001b[0m\u001b[1;33m)\u001b[0m\u001b[1;33m\u001b[0m\u001b[1;33m\u001b[0m\u001b[0m\n\u001b[0m\u001b[0;32m     22\u001b[0m \u001b[1;33m\u001b[0m\u001b[0m\n\u001b[0;32m     23\u001b[0m         \u001b[0mtag\u001b[0m\u001b[1;33m=\u001b[0m\u001b[1;34m\"\"\u001b[0m\u001b[1;33m\u001b[0m\u001b[1;33m\u001b[0m\u001b[0m\n",
      "\u001b[1;31mAttributeError\u001b[0m: 'list' object has no attribute 'appedn'"
     ]
    }
   ],
   "source": [
    "stack=[]\n",
    "tag=\"\"\n",
    "t=0\n",
    "msg=\"\"\n",
    "json=\"\"\n",
    "for i in xml:\n",
    "    if t:\n",
    "        tag+=i\n",
    "    \n",
    "    if i==\">\":\n",
    "        tag=tag[:-1]\n",
    "        if len(stack)>0:\n",
    "            bs=stack[-1].replace(\"/\",\"\")\n",
    "            print(tag,bs)\n",
    "            if tag!=bs:\n",
    "                stack.append(tag)\n",
    "                json+=\"{\"+\"\"+tag+\":\"\n",
    "            else:\n",
    "                json+=\"\"+tag+\":\"\n",
    "        else:\n",
    "            stack.appedn(tag)\n",
    "                                 \n",
    "        tag=\"\"\n",
    "        t=0\n",
    "    \n",
    "    elif i==\"<\":\n",
    "        msg=msg.replace(\"<\",\"\").replace(\">\",\"\").replace(\" \",\"\").strip()\n",
    "        if msg:\n",
    "            json+=\"'\"+msg+\"'\"\n",
    "        \n",
    "        msg=\"\"\n",
    "        t=1\n",
    "   \n",
    "    if tag==\"\":\n",
    "        msg+=i\n",
    "    \n",
    "    \n",
    "   \n",
    "json"
   ]
  },
  {
   "cell_type": "code",
   "execution_count": 29,
   "id": "e55485cf-6d78-45d0-9c6d-8fdf4d3fc3cb",
   "metadata": {},
   "outputs": [],
   "source": [
    "file=open(\"books.json\",\"w\")"
   ]
  },
  {
   "cell_type": "code",
   "execution_count": 30,
   "id": "d911e8f4-ddb1-40a9-b9b0-dd6dbddc0c4a",
   "metadata": {},
   "outputs": [
    {
     "data": {
      "text/plain": [
       "0"
      ]
     },
     "execution_count": 30,
     "metadata": {},
     "output_type": "execute_result"
    }
   ],
   "source": [
    "file.write(json)"
   ]
  },
  {
   "cell_type": "code",
   "execution_count": 31,
   "id": "0431c584-3b05-4669-8d5a-c3cc1757c299",
   "metadata": {},
   "outputs": [],
   "source": [
    "file.close()"
   ]
  },
  {
   "cell_type": "code",
   "execution_count": 32,
   "id": "330f509b-f768-488a-990d-3e85b39935da",
   "metadata": {},
   "outputs": [
    {
     "data": {
      "text/plain": [
       "[]"
      ]
     },
     "execution_count": 32,
     "metadata": {},
     "output_type": "execute_result"
    }
   ],
   "source": [
    "stack\n"
   ]
  },
  {
   "cell_type": "code",
   "execution_count": null,
   "id": "90ce6331-9eb1-4565-a59d-c72d6967f2f9",
   "metadata": {},
   "outputs": [],
   "source": []
  },
  {
   "cell_type": "code",
   "execution_count": null,
   "id": "75167e81-14e6-4a7d-bf44-231fdd1a6284",
   "metadata": {},
   "outputs": [],
   "source": []
  }
 ],
 "metadata": {
  "kernelspec": {
   "display_name": "Python 3",
   "language": "python",
   "name": "python3"
  },
  "language_info": {
   "codemirror_mode": {
    "name": "ipython",
    "version": 3
   },
   "file_extension": ".py",
   "mimetype": "text/x-python",
   "name": "python",
   "nbconvert_exporter": "python",
   "pygments_lexer": "ipython3",
   "version": "3.8.3"
  }
 },
 "nbformat": 4,
 "nbformat_minor": 5
}
